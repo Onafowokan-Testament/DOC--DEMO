{
 "cells": [
  {
   "cell_type": "code",
   "execution_count": 24,
   "id": "19b052ce",
   "metadata": {},
   "outputs": [],
   "source": [
    "from youtube_transcript_api import YouTubeTranscriptApi\n",
    "from youtube_transcript_api._errors import NoTranscriptFound, TranscriptsDisabled\n",
    "yt_api = YouTubeTranscriptApi()\n",
    "import pickle"
   ]
  },
  {
   "cell_type": "code",
   "execution_count": 25,
   "id": "2f526043",
   "metadata": {},
   "outputs": [
    {
     "name": "stdout",
     "output_type": "stream",
     "text": [
      "ERROR! Session/line number was not unique in database. History logging moved to new session 679\n"
     ]
    }
   ],
   "source": [
    "video_links= [\"https://www.youtube.com/watch?v=s0rEYje053c\", \"https://www.youtube.com/watch?v=Lz0ukw0v-Is\"]"
   ]
  },
  {
   "cell_type": "code",
   "execution_count": null,
   "id": "7a71e4fe",
   "metadata": {},
   "outputs": [],
   "source": [
    "def get_transcription(video_url:str) -> str:\n",
    "    video_id = video_url.split(\"?v=\")[-1]\n",
    "    try:\n",
    "        transcript = yt_api.get_transcript(video_id)\n",
    "        text = \" \".join([snippet[\"text\"] for snippet in transcript])\n",
    "        return text\n",
    "    except (NoTranscriptFound, TranscriptsDisabled):\n",
    "        raise ValueError(\"No transcript found for this video.\")\n",
    "        "
   ]
  },
  {
   "cell_type": "code",
   "execution_count": 28,
   "id": "4b3b1986",
   "metadata": {},
   "outputs": [
    {
     "name": "stdout",
     "output_type": "stream",
     "text": [
      "[Music] sis no touching girly you freak of [Music] ger this place gives 100% germs on E from table isn't even colorcoded she back on way up here look so straight to the P after recruiting Netflix and two the other day um my downstairs situation is giving red flag energy and sheesh I me why me I'm so main character energy and by the way I I have obid I didn't understand which anything she just said do she has um genital discharge and P during urination ah or U mhm did you use any protection durin\n",
      "so this is G and this is my first time in the Northeast yeah so G airport [Music] yeah this the entire Market okay I hope this one is good you done this is good yes okay and then you lick it yes those just lick has a seed help poti this the time I'm trying what's the name again ad first time I'm trying ad in G state has a slightly bitter taste though T bre as I continue yes my head I don't like it and it's part of our proction we have done this we have done that we have you know we have finished\n"
     ]
    }
   ],
   "source": [
    "for link in video_links:\n",
    "    try:\n",
    "        transcript_text = get_transcription(link)\n",
    "        print(transcript_text[:500])\n",
    "        with open(\"medical_video_transcript.txt\", \"a\") as f:\n",
    "            f.write(f\"\\n--- Transcript for {link} ---\\n\")\n",
    "            f.write(transcript_text)\n",
    "            f.write(\"\\n\")\n",
    "      \n",
    "    except ValueError as e:\n",
    "        print(f\"Error : {e}\")"
   ]
  },
  {
   "cell_type": "code",
   "execution_count": null,
   "id": "b9c974ef",
   "metadata": {},
   "outputs": [],
   "source": []
  }
 ],
 "metadata": {
  "kernelspec": {
   "display_name": ".venv",
   "language": "python",
   "name": "python3"
  },
  "language_info": {
   "codemirror_mode": {
    "name": "ipython",
    "version": 3
   },
   "file_extension": ".py",
   "mimetype": "text/x-python",
   "name": "python",
   "nbconvert_exporter": "python",
   "pygments_lexer": "ipython3",
   "version": "3.13.2"
  }
 },
 "nbformat": 4,
 "nbformat_minor": 5
}
