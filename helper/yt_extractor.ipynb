{
 "cells": [
  {
   "cell_type": "code",
   "execution_count": 29,
   "id": "19b052ce",
   "metadata": {},
   "outputs": [],
   "source": [
    "from youtube_transcript_api import YouTubeTranscriptApi\n",
    "from youtube_transcript_api._errors import NoTranscriptFound, TranscriptsDisabled\n",
    "yt_api = YouTubeTranscriptApi()\n",
    "import pickle"
   ]
  },
  {
   "cell_type": "code",
   "execution_count": 30,
   "id": "2f526043",
   "metadata": {},
   "outputs": [],
   "source": [
    "video_links= [\"https://www.youtube.com/watch?v=s0rEYje053c\", \"https://www.youtube.com/watch?v=Lz0ukw0v-Is\",'https://www.youtube.com/watch?v=g4tj1-PIHzA', 'https://www.youtube.com/watch?v=b6TVacSamLU', 'https://www.youtube.com/watch?v=5SB7avRSNok', 'https://www.youtube.com/watch?v=ZMcKYrSjws8']"
   ]
  },
  {
   "cell_type": "code",
   "execution_count": 31,
   "id": "7a71e4fe",
   "metadata": {},
   "outputs": [],
   "source": [
    "def get_transcription(video_url:str) -> str:\n",
    "    video_id = video_url.split(\"?v=\")[-1]\n",
    "    try:\n",
    "        transcript = yt_api.get_transcript(video_id)\n",
    "        text = \" \".join([snippet[\"text\"] for snippet in transcript])\n",
    "        return text\n",
    "    except (NoTranscriptFound, TranscriptsDisabled):\n",
    "        raise ValueError(\"No transcript found for this video.\")\n",
    "        "
   ]
  },
  {
   "cell_type": "code",
   "execution_count": 32,
   "id": "4b3b1986",
   "metadata": {},
   "outputs": [
    {
     "name": "stdout",
     "output_type": "stream",
     "text": [
      "[Music] sis no touching girly you freak of [Music] ger this place gives 100% germs on E from table isn't even colorcoded she back on way up here look so straight to the P after recruiting Netflix and two the other day um my downstairs situation is giving red flag energy and sheesh I me why me I'm so main character energy and by the way I I have obid I didn't understand which anything she just said do she has um genital discharge and P during urination ah or U mhm did you use any protection durin\n",
      "so this is G and this is my first time in the Northeast yeah so G airport [Music] yeah this the entire Market okay I hope this one is good you done this is good yes okay and then you lick it yes those just lick has a seed help poti this the time I'm trying what's the name again ad first time I'm trying ad in G state has a slightly bitter taste though T bre as I continue yes my head I don't like it and it's part of our proction we have done this we have done that we have you know we have finished\n",
      "a little sleep a little Slumber and poverty will catch up to you like a thief in the night how many of you have heard that saying before quite a number of us some of you motivational speakers you spited you're going around telling people that this particular verse probably means that people should not sleep at all meanwhile he's talking about laziness because what it actually means is that a little more sleep a little more Slumber a little folding of the hands you see I used to read Bible too bu\n",
      "everywhere you turn 10,000 steps if you put your watch 10,000 steps if you your phone 10,000 steps I said let me open the internet Instagram 10,000 steps it's not looking like 10,000 steps in you go in life if you don't make 10,000 steps it feels like you're failure me I'm been tracking since 1942 I'm never going to 10,000 steps but wait what if I tell you that all these 10,000 steps is just advertisement it's marketing because we need to we need to ask some questions but I need to sit down firs\n",
      "I still my best friend you don't agree with me you don't shout you just photo sent Chief look thank God you here AR wrong seat this is your seat that place your seat okay is your where is your [Music] this today that my NSE does not come to work that's why you are coming Ro uhuh talk to me what's up there's a problem there's a problem big problem you talking to my plants and you don't know that there's a problem already no we're colleagues see the only problem I have now I don't have any other p\n",
      "have you seen any case in which Abu has killed cancer in my experience no somebody is telling them bring the child to the Village what are they doing in that Lagos and then they take them and by the time they're coming back the mothers will actually literally bring them half dead so you have to start to resuscitate them first because you can't even treat the cancer at this stage I have people who are close to me whose children have cancers I'm dealing with one presently they told her your child \n"
     ]
    }
   ],
   "source": [
    "for link in video_links:\n",
    "    try:\n",
    "        transcript_text = get_transcription(link)\n",
    "        print(transcript_text[:500])\n",
    "        with open(\"medical_video_transcript.txt\", \"a\") as f:\n",
    "            f.write(f\"\\n--- Transcript for {link} ---\\n\")\n",
    "            f.write(transcript_text)\n",
    "            f.write(\"\\n\")\n",
    "      \n",
    "    except ValueError as e:\n",
    "        print(f\"Error : {e}\")"
   ]
  },
  {
   "cell_type": "code",
   "execution_count": null,
   "id": "b9c974ef",
   "metadata": {},
   "outputs": [],
   "source": []
  }
 ],
 "metadata": {
  "kernelspec": {
   "display_name": ".venv",
   "language": "python",
   "name": "python3"
  },
  "language_info": {
   "codemirror_mode": {
    "name": "ipython",
    "version": 3
   },
   "file_extension": ".py",
   "mimetype": "text/x-python",
   "name": "python",
   "nbconvert_exporter": "python",
   "pygments_lexer": "ipython3",
   "version": "3.13.2"
  }
 },
 "nbformat": 4,
 "nbformat_minor": 5
}
